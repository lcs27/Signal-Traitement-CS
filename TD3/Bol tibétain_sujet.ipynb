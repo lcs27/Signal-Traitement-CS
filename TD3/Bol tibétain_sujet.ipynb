{
 "cells": [
  {
   "cell_type": "markdown",
   "metadata": {},
   "source": [
    "# Analyse d'un bol tibétain\n",
    "\n",
    "Les [bols tibétains](https://fr.wikipedia.org/wiki/Bol_chantant) sont des bols métalliques (alliages de divers métaux), de symétrie circulaire approximative.  Leur son a la propriété de présenter des battements, c'est-à-dire des modulations d'amplitude périodiques.\n",
    "\n",
    "Le but du notebook est d'étudier les propriétés spectrales d'un son de bol tibétain.\n",
    "\n",
    ""
   ]
  },
  {
   "cell_type": "code",
   "execution_count": null,
   "metadata": {},
   "outputs": [],
   "source": [
    "%matplotlib notebook\n",
    "\n",
    "\n",
    "import numpy as np\n",
    "import scipy.fft as fft\n",
    "import scipy.io.wavfile as wav\n",
    "import scipy.signal.windows as ww\n",
    "import matplotlib.pyplot as plt\n",
    "import IPython.display\n",
    "\n",
    "# dimension des figures\n",
    "W = 9;\n",
    "H = 4;\n",
    "\n",
    "fe, sig = wav.read('bol.wav') # chargement\n",
    "sig = sig.astype(float)\n",
    "\n",
    "sig = sig[:, 0] # sélection d'un des deux canaux stéréo\n",
    "L = sig.shape[0]\n",
    "\n",
    "t = np.arange(L) / fe # temps des échantillons\n",
    "\n",
    "\n",
    "\n",
    "plt.plot(t, sig)\n",
    "plt.xlabel('Temps [s]')\n",
    "plt.ylabel('Signal')\n",
    "IPython.display.Audio(sig, rate = fe)\n",
    "\n"
   ]
  },
  {
   "cell_type": "markdown",
   "metadata": {},
   "source": [
    "## Fenétrage\n",
    "\n",
    "Le son n'est pas strictement une somme de sinusoïdes. On sélectionne un court extrait où ses propriétés sont supposées approximativement constantes.\n",
    "\n",
    "**Q0** Quelle est la fréquence d'échantillonnage ? Quelle est la plus grande fréquence observable dans le signal ?\n",
    "\n",
    ""
   ]
  },
  {
   "cell_type": "code",
   "execution_count": null,
   "metadata": {},
   "outputs": [],
   "source": [
    "start = 5000 # début de l'extrait\n",
    "N = 800 # longueur\n",
    "\n",
    "seg = sig[start:start+N]\n",
    "plt.figure(figsize=(W,H))\n",
    "plt.plot(seg);\n",
    "\n",
    "plt.xlabel('Temps [éch.]')\n",
    "plt.ylabel('Signal')\n"
   ]
  },
  {
   "cell_type": "markdown",
   "metadata": {},
   "source": [
    "## Première analyse\n",
    "\n",
    "On commence par tracer les valeurs de la TFD du signal.\n",
    "\n",
    "**Q1** Ce tracé permet-il une analyse pertinente du signal ?\n",
    "\n",
    ""
   ]
  },
  {
   "cell_type": "code",
   "execution_count": null,
   "metadata": {},
   "outputs": [],
   "source": [
    "\n",
    "plt.figure(figsize=(W,H))\n",
    "\n",
    "\n",
    "freq_axis = fft.fftshift(np.arange(N)/N * fe);\n",
    "freq_axis[freq_axis >= fe/2] = freq_axis[freq_axis >= fe/2] - fe\n",
    "\n",
    "Fsig = fft.fft(seg)/N\n",
    "\n",
    "plt.subplot(121)\n",
    "\n",
    "plt.semilogy(freq_axis, fft.fftshift(np.abs(Fsig)**2), '-+')\n",
    "plt.xlabel('Fréquence [Hz]')\n",
    "plt.ylabel('|TFD|^2')\n",
    "\n",
    "plt.subplot(122)\n",
    "\n",
    "plt.semilogy(freq_axis, fft.fftshift(np.abs(Fsig)**2), '-+')\n",
    "plt.xlim([0,2000])\n",
    "\n",
    "plt.xlabel('Fréquence [Hz]')\n",
    "plt.ylabel('|TFD|^2');\n"
   ]
  },
  {
   "cell_type": "markdown",
   "metadata": {},
   "source": [
    "## Zero-padding\n",
    "\n",
    "**Q2** Appliquer le zero-padding. Combien de sinusoïdes identifie-t-on ?\n",
    "\n",
    ""
   ]
  },
  {
   "cell_type": "code",
   "execution_count": null,
   "metadata": {},
   "outputs": [],
   "source": [
    "# Modify from here...\n",
    "plt.figure(figsize=(W,H))\n",
    "\n",
    "freq_axis = fft.fftshift(np.arange(N)/N * fe);\n",
    "freq_axis[freq_axis >= fe/2] = freq_axis[freq_axis >= fe/2] - fe\n",
    "\n",
    "Fsig = fft.fft(seg)/N\n",
    "# ...to here\n",
    "\n",
    "\n",
    "plt.subplot(121)\n",
    "\n",
    "plt.semilogy(freq_axis, fft.fftshift(np.abs(Fsig)**2))\n",
    "plt.xlabel('Fréquence [Hz]')\n",
    "plt.ylabel('|TFD|^2');\n",
    "\n",
    "plt.subplot(122)\n",
    "\n",
    "plt.semilogy(freq_axis, fft.fftshift(np.abs(Fsig)**2))\n",
    "plt.xlim([0,2000])\n",
    "plt.xlabel('Fréquence [Hz]')\n",
    "plt.ylabel('|TFD|^2');\n",
    "\n",
    "#"
   ]
  },
  {
   "cell_type": "markdown",
   "metadata": {},
   "source": [
    "## Fenêtrage\n",
    "\n",
    "**Q3** Utiliser une fenêtre adaptée pour diminuer l'amplitude des lobes secondaires. Combien de sinusoïdes arrive-t-on à identifier ?\n",
    "\n",
    ""
   ]
  },
  {
   "cell_type": "code",
   "execution_count": null,
   "metadata": {},
   "outputs": [],
   "source": [
    "# Modify from here...\n",
    "plt.figure(figsize=(W,H))\n",
    "\n",
    "freq_axis = fft.fftshift(np.arange(N)/N * fe);\n",
    "freq_axis[freq_axis >= fe/2] = freq_axis[freq_axis >= fe/2] - fe\n",
    "\n",
    "Fsig = fft.fft(seg)/N\n",
    "# ...to here\n",
    "\n",
    "\n",
    "plt.subplot(121)\n",
    "\n",
    "plt.semilogy(freq_axis, fft.fftshift(np.abs(Fsig)**2))\n",
    "plt.xlabel('Fréquence [Hz]')\n",
    "plt.ylabel('|TFD|^2');\n",
    "\n",
    "plt.subplot(122)\n",
    "\n",
    "plt.semilogy(freq_axis, fft.fftshift(np.abs(Fsig)**2))\n",
    "plt.xlim([0,2000])\n",
    "plt.xlabel('Fréquence [Hz]')\n",
    "plt.ylabel('|TFD|^2');\n"
   ]
  },
  {
   "cell_type": "markdown",
   "metadata": {},
   "source": [
    "\n",
    "## Amélioration de la résolution\n",
    "\n",
    "La durée d'observation n'est pas assez longue pour séparer et identifier toutes les composantes du signal.\n",
    "\n",
    "\n",
    "**Q4** Estimer à l'écoute la fréquence des battements. À l'aide de l'identité trigonométrique permettant d'écrire un produit de cosinus comme une somme de cosinus, estimer une durée d'observation permettant de séparer les composantes du signal.\n",
    "\n",
    ""
   ]
  },
  {
   "cell_type": "code",
   "execution_count": null,
   "metadata": {},
   "outputs": [],
   "source": [
    "# Modify from here...\n",
    "\n",
    "start = 5000\n",
    "N = 800\n",
    "seg = sig[start:start+N]\n",
    "plt.figure(figsize=(W,H))\n",
    "\n",
    "freq_axis = fft.fftshift(np.arange(N)/N * fe);\n",
    "freq_axis[freq_axis >= fe/2] = freq_axis[freq_axis >= fe/2] - fe\n",
    "\n",
    "Fsig = fft.fft(seg)/N\n",
    "\n",
    "# Copy and modify the code of the previous question\n",
    "\n",
    "\n",
    "# ...to here\n",
    "\n",
    "\n",
    "\n",
    "plt.subplot(121)\n",
    "\n",
    "plt.semilogy(freq_axis, fft.fftshift(np.abs(Fsig)**2))\n",
    "plt.xlabel('Fréquence [Hz]')\n",
    "plt.ylabel('|TFD|^2');\n",
    "\n",
    "plt.subplot(122)\n",
    "\n",
    "plt.semilogy(freq_axis, fft.fftshift(np.abs(Fsig)**2))\n",
    "plt.xlim([0,2000])\n",
    "plt.xlabel('Fréquence [Hz]')\n",
    "plt.ylabel('|TFD|^2');\n"
   ]
  },
  {
   "cell_type": "code",
   "execution_count": null,
   "metadata": {},
   "outputs": [],
   "source": []
  }
 ],
 "metadata": {
  "kernelspec": {
   "display_name": "Python 3",
   "language": "python",
   "name": "python3"
  },
  "language_info": {
   "codemirror_mode": {
    "name": "ipython",
    "version": 3
   },
   "file_extension": ".py",
   "mimetype": "text/x-python",
   "name": "python",
   "nbconvert_exporter": "python",
   "pygments_lexer": "ipython3",
   "version": "3.6.9"
  }
 },
 "nbformat": 4,
 "nbformat_minor": 2
}
